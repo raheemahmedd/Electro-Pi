{
 "cells": [
  {
   "cell_type": "code",
   "execution_count": 1,
   "metadata": {},
   "outputs": [
    {
     "name": "stdout",
     "output_type": "stream",
     "text": [
      "[(1, 'user', ' ايه متوسطات الدخل الشهرية ؟'), (1, 'user', ' ايه متوسطات الدخل الشهرية ؟'), (1, 'user', ' ايه متوسطات الدخل الربع السنوية؟'), (1, 'user', 'ايه هي ايراداتنا الشهرية ؟'), (1, 'user', 'ايه متوسطات الدخل الشهرية ؟'), (1, 'user', 'ايه متوسطات الدخل الربع السنوية؟'), (1, 'user', 'ايه اكبر مصدر دخل عندي ؟'), (1, 'user', 'ايه اكتر حاجة بتكلفني على مدار السنة؟'), (1, 'user', 'ايه اكتر حاجة بتكلفني على مستوى ال quarter ؟'), (1, 'user', 'ايه انواع المصاريف الثابته عليا كل شهر'), (1, 'user', 'هل في مصاريف متغيرة ؟ وبتكلفني كام كل سنة ؟'), (1, 'user', 'ارباحي كام شهر يناير؟'), (1, 'user', 'خسرت كام شهر فبراير ؟'), (1, 'user', 'خسرت قد ايه في الربع الاول من السنة ؟'), (1, 'user', 'هل في مكسب ولا خسارة على مدار اول ربعين من السنة ؟'), (1, 'user', 'صافي الربح الشهري كام ؟'), (1, 'user', 'هل في زيادة في حجم الشركة ؟'), (1, 'user', ' ايه متوسطات الدخل الربع السنوية؟'), (1, 'user', ' ايه متوسطات الدخل الشهرية ؟'), (1, 'user', ' ايه متوسطات الدخل الربع السنوية؟'), (1, 'user', ' ايه اكبر مصدر دخل عندي ؟'), (1, 'user', ' ايه اكتر حاجة بتكلفني على مدار السنة؟'), (1, 'user', ' ايه اكتر حاجة بتكلفني على مستوى ال quarter ؟'), (1, 'user', ' ايه انواع المصاريف الثابته عليا كل شهر'), (1, 'user', 'هل في مصاريف متغيرة ؟ وبتكلفني كام كل سنة ؟'), (1, 'user', 'ارباحي كام شهر يناير؟')]\n"
     ]
    }
   ],
   "source": [
    "import import_ipynb\n",
    "from mysql_db import ChatDB\n",
    "from langchain_community.chat_message_histories import ChatMessageHistory\n",
    "class ChatHistory:\n",
    "   \n",
    "    def __init__(self):\n",
    "        self.store={}\n",
    "        self.db = ChatDB()\n",
    "    def load_chat_history(self,session_id):\n",
    "        chat_history=ChatMessageHistory()\n",
    "        chat=self.db.fetch_chat_history(session_id)\n",
    "        if chat:\n",
    "                for message in chat:\n",
    "                      if len(message) == 3:\n",
    "                            role = message[1]\n",
    "                            content = message[2]\n",
    "                    \n",
    "                    # Check the role and add the appropriate type of message\n",
    "                      if role == 'user':\n",
    "                           chat_history.add_user_message(content)\n",
    "                      elif role == 'ai':\n",
    "                           chat_history.add_ai_message(content)\n",
    "                      else:\n",
    "                           print(f\"Unknown role: {role}\")\n",
    "                     \n",
    "        else:\n",
    "                print(f\"Invalid message structure: {message}\")\n",
    "       \n",
    "        return chat_history\n",
    "    \n",
    "    def get_chat_history(self, session_id):\n",
    "            if session_id not in self.store:\n",
    "                 self.store[session_id] = self.load_chat_history(session_id)\n",
    "            return self.store[session_id]\n",
    "\n",
    "    def save_message(self, session_id, role, content):\n",
    "        try:\n",
    "            # Add the message to the database\n",
    "            self.db.add_message(session_id, role, content)\n",
    "        except Exception as e:\n",
    "            print(f\"an error occured while saving to the database : {e}\")\n",
    "    "
   ]
  },
  {
   "cell_type": "code",
   "execution_count": null,
   "metadata": {},
   "outputs": [],
   "source": []
  }
 ],
 "metadata": {
  "kernelspec": {
   "display_name": "Python 3",
   "language": "python",
   "name": "python3"
  },
  "language_info": {
   "codemirror_mode": {
    "name": "ipython",
    "version": 3
   },
   "file_extension": ".py",
   "mimetype": "text/x-python",
   "name": "python",
   "nbconvert_exporter": "python",
   "pygments_lexer": "ipython3",
   "version": "3.11.9"
  }
 },
 "nbformat": 4,
 "nbformat_minor": 2
}
