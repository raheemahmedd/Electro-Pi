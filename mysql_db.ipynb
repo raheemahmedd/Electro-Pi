{
 "cells": [
  {
   "cell_type": "code",
   "execution_count": 2,
   "metadata": {},
   "outputs": [
    {
     "name": "stdout",
     "output_type": "stream",
     "text": [
      "0 record(s) deleted\n",
      "[]\n"
     ]
    }
   ],
   "source": [
    "import mysql.connector\n",
    "class ChatDB:\n",
    "    def __init__(self):\n",
    "        # Connection to the database\n",
    "        self.mydb = mysql.connector.connect(\n",
    "        host=\"localhost\",\n",
    "        user=\"root\",\n",
    "        password=\"raheem123\",\n",
    "        database=\"chat_history\"\n",
    "        )\n",
    "        self.mycursor = self.mydb.cursor()\n",
    "    \n",
    "    def add_message(self,session_id, role, content):\n",
    "      ## inserting chat history data \n",
    "        sql = \"INSERT INTO chats (session_id, role,content) VALUES (%s, %s,%s)\"\n",
    "        val = (session_id,role,content)\n",
    "        self.mycursor.execute(sql, val)\n",
    "\n",
    "        self.mydb.commit()\n",
    "\n",
    "        print(self.mycursor.rowcount, \"chat history inserted successfully!.\")\n",
    "\n",
    "    \n",
    "    def delete_message(self,session_id):\n",
    "        \n",
    "        sql = f\"DELETE FROM chats WHERE session_id = {session_id}\"\n",
    "\n",
    "        self.mycursor.execute(sql)\n",
    "\n",
    "        self.mydb.commit()\n",
    "\n",
    "        print(self.mycursor.rowcount, \"record(s) deleted\")\n",
    "    \n",
    "    \n",
    "    \n",
    "    \n",
    "        ## retrive all chat history data\n",
    "    def fetch_all_chat_history(self):\n",
    "        self.mycursor.execute(\"SELECT * FROM chats\")\n",
    "\n",
    "        return self.mycursor.fetchall()\n",
    "\n",
    "    def fetch_chat_history(self,session_id):\n",
    "        self.mycursor.execute(f\"SELECT * FROM chats  WHERE session_id = {session_id}\")\n",
    "        return self.mycursor.fetchall()\n",
    "\n",
    "chat_history1=ChatDB()\n",
    "#chat_history1.add_message(1,'user','my name is raheem ahmed')\n",
    "# chat_history1.add_message(1,'user','my brother name is rouwaid')\n",
    "# data_fetched=chat_history1.fetch_chat_history()\n",
    "# print(data_fetched)\n",
    "# chat_history1.delete_message(1)\n",
    "# print(chat_history1.fetch_all_chat_history())\n",
    "#chat_history1.add_message(2,'ai','are you human?')\n",
    "chat_history1.delete_message(1)\n",
    "print(chat_history1.fetch_all_chat_history())"
   ]
  },
  {
   "cell_type": "code",
   "execution_count": null,
   "metadata": {},
   "outputs": [],
   "source": []
  }
 ],
 "metadata": {
  "kernelspec": {
   "display_name": "Python 3",
   "language": "python",
   "name": "python3"
  },
  "language_info": {
   "codemirror_mode": {
    "name": "ipython",
    "version": 3
   },
   "file_extension": ".py",
   "mimetype": "text/x-python",
   "name": "python",
   "nbconvert_exporter": "python",
   "pygments_lexer": "ipython3",
   "version": "3.11.9"
  }
 },
 "nbformat": 4,
 "nbformat_minor": 2
}
